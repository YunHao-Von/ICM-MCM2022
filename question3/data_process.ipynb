{
 "cells": [
  {
   "cell_type": "code",
   "execution_count": 1,
   "metadata": {},
   "outputs": [],
   "source": [
    "\"\"\"导入包\"\"\"\n",
    "import pandas as pd\n",
    "import country_converter as coco\n"
   ]
  },
  {
   "cell_type": "code",
   "execution_count": 2,
   "metadata": {},
   "outputs": [],
   "source": [
    "\"\"\"数据融合\"\"\"\n",
    "\"\"\"处理NI（国民收入总值)\"\"\"\n",
    "columns = ['Country Name','Country Code','2010','2011','2012','2013','2014','2015','2016','2017','2018','2019','2020']\n",
    "national_income = pd.read_excel('data\\按购买力平价衡量的人均国民总收入GNI.xls',sheet_name='Data')[columns]\n",
    "national_income['GNI'] = national_income[['2010','2011','2012','2013','2014','2015','2016','2017','2018','2019','2020']].apply(lambda x:max(x),axis=1)\n",
    "national_income = national_income[['Country Name','Country Code','GNI']]\n",
    "national_income = national_income[~(national_income['GNI'].isnull())] \n",
    "national_income.to_csv('clean_data/GNI.csv',index=False)"
   ]
  },
  {
   "cell_type": "code",
   "execution_count": 3,
   "metadata": {},
   "outputs": [],
   "source": [
    "\"\"\"公共教育支出，总数（占政府支出的比例\"\"\"\n",
    "columns = ['Country Name','Country Code','2010','2011','2012','2013','2014','2015','2016','2017','2018','2019','2020']\n",
    "Percent_Of_Educate = pd.read_excel('data\\公共教育支出总数及总支出比例.xls',sheet_name='Data')[columns]\n",
    "Percent_Of_Educate['Percent_Of_Educate'] = Percent_Of_Educate[['2010','2011','2012','2013','2014','2015','2016','2017','2018','2019','2020']].apply(lambda x:max(x),axis=1)\n",
    "Percent_Of_Educate = Percent_Of_Educate[['Country Name','Country Code','Percent_Of_Educate']]\n",
    "Percent_Of_Educate = Percent_Of_Educate[~(Percent_Of_Educate['Percent_Of_Educate'].isnull())] \n",
    "Percent_Of_Educate.to_csv('clean_data/Percent_Of_Educate.csv',index=False)"
   ]
  },
  {
   "cell_type": "code",
   "execution_count": 4,
   "metadata": {},
   "outputs": [],
   "source": [
    "\"\"\"国家政策和制度评估 (CPIA) 社会包容性/公平政策集群平均值（1=低至 6=高）\"\"\"\n",
    "CPIA = pd.read_excel('data\\国家政策和制度评估（CPIA）公平政策集群均值.xls',sheet_name='Data')[columns]\n",
    "CPIA['CPIA'] = CPIA[['2010','2011','2012','2013','2014','2015','2016','2017','2018','2019','2020']].apply(lambda x:max(x),axis=1)\n",
    "CPIA = CPIA[['Country Name','Country Code','CPIA']]\n",
    "CPIA = CPIA[~(CPIA['CPIA'].isnull())] \n",
    "CPIA.to_csv('clean_data/CPIA.csv',index=False)"
   ]
  },
  {
   "cell_type": "code",
   "execution_count": 5,
   "metadata": {},
   "outputs": [],
   "source": [
    "\"\"\"能源净进口（占能源使用量的百分比）\"\"\"\n",
    "Percent_Energy = pd.read_excel('data\\能源净进口.xls',sheet_name='Data')[columns]\n",
    "Percent_Energy['Percent_Energy'] = Percent_Energy[['2010','2011','2012','2013','2014','2015','2016','2017','2018','2019','2020']].apply(lambda x:max(x),axis=1)\n",
    "Percent_Energy = Percent_Energy[['Country Name','Country Code','Percent_Energy']]\n",
    "Percent_Energy = Percent_Energy[~(Percent_Energy['Percent_Energy'].isnull())] \n",
    "Percent_Energy.to_csv('clean_data/Percent_Energy.csv',index=False)"
   ]
  },
  {
   "cell_type": "code",
   "execution_count": 6,
   "metadata": {},
   "outputs": [],
   "source": [
    "\"\"\"女性劳动力占比\"\"\"\n",
    "Female_Labor_Percent = pd.read_excel('data\\女性劳动力占比.xls',sheet_name='Data')[columns]\n",
    "Female_Labor_Percent['Female_Labor_Percent'] = Female_Labor_Percent[['2010','2011','2012','2013','2014','2015','2016','2017','2018','2019','2020']].apply(lambda x:max(x),axis=1)\n",
    "Female_Labor_Percent = Female_Labor_Percent[['Country Name','Country Code','Female_Labor_Percent']]\n",
    "Female_Labor_Percent = Female_Labor_Percent[~(Female_Labor_Percent['Female_Labor_Percent'].isnull())] \n",
    "Female_Labor_Percent.to_csv('clean_data/Female_Labor_Percent.csv',index=False)"
   ]
  },
  {
   "cell_type": "code",
   "execution_count": 7,
   "metadata": {},
   "outputs": [],
   "source": [
    "\"\"\"贫困人口比例\"\"\"\n",
    "Poor_Percent = pd.read_excel('data\\贫困人口比例.xls',sheet_name='Data')[columns]\n",
    "Poor_Percent['Poor_Percent'] = Poor_Percent[['2010','2011','2012','2013','2014','2015','2016','2017','2018','2019','2020']].apply(lambda x:max(x),axis=1)\n",
    "Poor_Percent = Poor_Percent[['Country Name','Country Code','Poor_Percent']]\n",
    "Poor_Percent = Poor_Percent[~(Poor_Percent['Poor_Percent'].isnull())] \n",
    "Poor_Percent.to_csv('clean_data/Poor_Percent.csv',index=False)"
   ]
  },
  {
   "cell_type": "code",
   "execution_count": 8,
   "metadata": {},
   "outputs": [],
   "source": [
    "\"\"\"人均耕地面积\"\"\"\n",
    "Per_Agiricutural = pd.read_excel('data\\人均耕地面积.xls',sheet_name='Data')[columns]\n",
    "Per_Agiricutural['Per_Agiricutural'] = Per_Agiricutural[['2010','2011','2012','2013','2014','2015','2016','2017','2018','2019','2020']].apply(lambda x:max(x),axis=1)\n",
    "Per_Agiricutural = Per_Agiricutural[['Country Name','Country Code','Per_Agiricutural']]\n",
    "Per_Agiricutural = Per_Agiricutural[~(Per_Agiricutural['Per_Agiricutural'].isnull())] \n",
    "Per_Agiricutural.to_csv('clean_data/Per_Agiricutural.csv',index=False)"
   ]
  },
  {
   "cell_type": "code",
   "execution_count": 9,
   "metadata": {},
   "outputs": [],
   "source": [
    "\"\"\"人均可再生淡水\"\"\"\n",
    "Per_Water = pd.read_excel('data\\人均可再生内陆淡水.xls',sheet_name='Data')[columns]\n",
    "Per_Water['Per_Water'] = Per_Water[['2010','2011','2012','2013','2014','2015','2016','2017','2018','2019','2020']].apply(lambda x:max(x),axis=1)\n",
    "Per_Water = Per_Water[['Country Name','Country Code','Per_Water']]\n",
    "Per_Water = Per_Water[~(Per_Water['Per_Water'].isnull())] \n",
    "Per_Water.to_csv('clean_data/Per_Water.csv',index=False)"
   ]
  },
  {
   "cell_type": "code",
   "execution_count": 10,
   "metadata": {},
   "outputs": [],
   "source": [
    "\"\"\"贪腐指数\"\"\"\n",
    "corruption = pd.read_excel(\"data/贪腐指数.xlsx\")[['ISO3','CPI score 2021']]"
   ]
  },
  {
   "cell_type": "code",
   "execution_count": 11,
   "metadata": {},
   "outputs": [],
   "source": [
    "\"\"\"营养不良发生率\"\"\"\n",
    "Malnutrition = pd.read_excel('data\\营养不良发生率占总人口比例.xls',sheet_name='Data')[columns]\n",
    "Malnutrition['Malnutrition'] = Malnutrition[['2010','2011','2012','2013','2014','2015','2016','2017','2018','2019','2020']].apply(lambda x:max(x),axis=1)\n",
    "Malnutrition = Malnutrition[['Country Name','Country Code','Malnutrition']]\n",
    "Malnutrition = Malnutrition[~(Malnutrition['Malnutrition'].isnull())] \n",
    "Malnutrition.to_csv('clean_data/Malnutrition.csv',index=False)"
   ]
  },
  {
   "cell_type": "code",
   "execution_count": 12,
   "metadata": {},
   "outputs": [],
   "source": [
    "\"\"\"基尼系数\"\"\"\n",
    "Gini = pd.read_excel('data\\API_SI.POV.GINI_DS2_zh_excel_v2_3662424.xls',sheet_name='Data')[columns]\n",
    "Gini['Gini'] = Gini[['2010','2011','2012','2013','2014','2015','2016','2017','2018','2019','2020']].apply(lambda x:max(x),axis=1)\n",
    "Gini = Gini[['Country Name','Country Code','Gini']]\n",
    "Gini = Gini[~(Gini['Gini'].isnull())] \n",
    "Gini.to_csv('clean_data/Gini.csv',index=False)"
   ]
  },
  {
   "cell_type": "code",
   "execution_count": 13,
   "metadata": {},
   "outputs": [],
   "source": [
    "\"\"\"补充读取俩数据\"\"\"\n",
    "Rgtb = pd.read_csv(\"clean_data/Rgtv.csv\")\n",
    "Port = pd.read_csv(\"clean_data/port.csv\")"
   ]
  },
  {
   "cell_type": "code",
   "execution_count": 14,
   "metadata": {},
   "outputs": [],
   "source": [
    "temp1=pd.merge(national_income,Percent_Of_Educate,on=[\"Country Code\",\"Country Name\"],how=\"outer\")\n",
    "temp1=pd.merge(temp1,CPIA,on=[\"Country Code\",\"Country Name\"],how=\"outer\")\n",
    "temp1=pd.merge(temp1,Percent_Energy,on=[\"Country Code\",\"Country Name\"],how=\"outer\")\n",
    "temp1=pd.merge(temp1,Female_Labor_Percent,on=[\"Country Code\",\"Country Name\"],how=\"outer\")\n",
    "temp1=pd.merge(temp1,Poor_Percent,on=[\"Country Code\",\"Country Name\"],how=\"outer\")\n",
    "temp1=pd.merge(temp1,Per_Water,on=[\"Country Code\",\"Country Name\"],how=\"outer\")\n",
    "temp1=pd.merge(temp1,Gini,on=[\"Country Code\",\"Country Name\"],how=\"outer\")\n",
    "temp1=pd.merge(temp1,Malnutrition,on=[\"Country Code\",\"Country Name\"],how=\"outer\")\n",
    "temp1=pd.merge(temp1,corruption,left_on=\"Country Code\",right_on=\"ISO3\",how=\"outer\")\n",
    "temp1=pd.merge(temp1,Port,left_on=\"Country Code\",right_on=\"country\",how=\"outer\")\n",
    "temp1=pd.merge(temp1,Rgtb,left_on=\"Country Code\",right_on=\"country\",how=\"outer\")\n",
    "temp1.to_csv('useful_data/all_data.csv',index=False)"
   ]
  }
 ],
 "metadata": {
  "interpreter": {
   "hash": "51a9663a131f1b5758c45b97a2d6917c8ae86b33e231c3733631cbc7265cfc89"
  },
  "kernelspec": {
   "display_name": "Python 3.8.3 ('base')",
   "language": "python",
   "name": "python3"
  },
  "language_info": {
   "codemirror_mode": {
    "name": "ipython",
    "version": 3
   },
   "file_extension": ".py",
   "mimetype": "text/x-python",
   "name": "python",
   "nbconvert_exporter": "python",
   "pygments_lexer": "ipython3",
   "version": "3.8.3"
  },
  "orig_nbformat": 4
 },
 "nbformat": 4,
 "nbformat_minor": 2
}
